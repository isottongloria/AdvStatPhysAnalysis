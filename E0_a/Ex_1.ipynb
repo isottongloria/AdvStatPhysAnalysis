{
 "cells": [
  {
   "cell_type": "markdown",
   "id": "066c8570",
   "metadata": {},
   "source": [
    "# 1"
   ]
  },
  {
   "cell_type": "code",
   "execution_count": 47,
   "id": "b84a690a",
   "metadata": {},
   "outputs": [],
   "source": [
    "#write a function that computes and returns the n-th Fibonacci number\n",
    "fibonacci <- function (n) { \n",
    "    if (n==1) {\n",
    "        cat(0)} else{\n",
    "    if  (n==2) { \n",
    "        cat(1)} else {\n",
    "        fib<-c(0,1)\n",
    "        for (i in 3:n) {\n",
    "        fib<-append(fib,fib[[i-1]]+fib[[i-2]])\n",
    "        }\n",
    "        cat(fib[[n]])\n",
    "        }}\n",
    "}\n"
   ]
  },
  {
   "cell_type": "code",
   "execution_count": 48,
   "id": "628c7d89",
   "metadata": {},
   "outputs": [
    {
     "name": "stdout",
     "output_type": "stream",
     "text": [
      "0\n",
      "1\n",
      "1\n",
      "2\n",
      "3\n",
      "5\n",
      "8\n",
      "13\n",
      "21\n",
      "34\n",
      "55\n",
      "89\n",
      "144\n"
     ]
    }
   ],
   "source": [
    "for (i in 1:13) {\n",
    "    fibonacci(i)\n",
    "    cat(\"\\n\")\n",
    "}"
   ]
  },
  {
   "cell_type": "markdown",
   "id": "5034fc57",
   "metadata": {},
   "source": [
    "# 2"
   ]
  },
  {
   "cell_type": "code",
   "execution_count": 81,
   "id": "37b21066",
   "metadata": {},
   "outputs": [
    {
     "name": "stdout",
     "output_type": "stream",
     "text": [
      "90"
     ]
    }
   ],
   "source": [
    "gcd <- function (n1,n2) { \n",
    "    q0<-c()\n",
    "    r0<-c()\n",
    "    a <- max(n1, n2)\n",
    "    b <- min(n1, n2)\n",
    "    \n",
    "    #a=q0·b +r0\n",
    "    q0 <-append(q0, a%/%b)\n",
    "    r0 <- append(r0, a%%b)\n",
    "    \n",
    "    while (r0[length(r0)]!=0){ #access the last value of the vector\n",
    "        #b=q1·r0 + r1 \n",
    "        #r0=q2·r1 + r2\n",
    "        t=b\n",
    "        b=r0[length(r0)]\n",
    "        a=t\n",
    "        \n",
    "        q0 <-append(q0, a%/%b)\n",
    "        r0 <- append(r0, a%%b)\n",
    "    }\n",
    "    cat(r0[length(r0)-1])\n",
    "    }\n",
    "gcd(360,450)\n"
   ]
  },
  {
   "cell_type": "markdown",
   "id": "df08abe9",
   "metadata": {},
   "source": [
    "# 3"
   ]
  },
  {
   "cell_type": "code",
   "execution_count": 82,
   "id": "b77525f7",
   "metadata": {},
   "outputs": [],
   "source": [
    "#Given a positive integer number, decompose it, with a list of products of prime numbers.\n",
    "\n",
    "trial_factor <- function (n) { \n",
    "    a<-c()\n",
    "    f<-2\n",
    "    while (n>1){\n",
    "        if (n%%f==0) {\n",
    "            a<-append(a,f)\n",
    "            n<- n/f\n",
    "        } else {\n",
    "            f<-f+1\n",
    "        }\n",
    "    }\n",
    "    str(a)\n",
    "}"
   ]
  },
  {
   "cell_type": "code",
   "execution_count": 98,
   "id": "d041a98a",
   "metadata": {},
   "outputs": [
    {
     "name": "stdout",
     "output_type": "stream",
     "text": [
      " num [1:3] 2 2 3\n"
     ]
    }
   ],
   "source": [
    "trial_factor(12)"
   ]
  },
  {
   "cell_type": "code",
   "execution_count": null,
   "id": "e884de80",
   "metadata": {},
   "outputs": [],
   "source": []
  }
 ],
 "metadata": {
  "kernelspec": {
   "display_name": "R",
   "language": "R",
   "name": "ir"
  },
  "language_info": {
   "codemirror_mode": "r",
   "file_extension": ".r",
   "mimetype": "text/x-r-source",
   "name": "R",
   "pygments_lexer": "r",
   "version": "3.6.1"
  }
 },
 "nbformat": 4,
 "nbformat_minor": 5
}
